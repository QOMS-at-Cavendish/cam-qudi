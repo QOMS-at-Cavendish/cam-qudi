{
 "cells": [
  {
   "cell_type": "code",
   "execution_count": null,
   "metadata": {},
   "outputs": [],
   "source": [
    "import matplotlib.pyplot as plt\n",
    "import time\n",
    "\n",
    "powers = np.arange(0, 400, 1)\n",
    "psat = []\n",
    "\n",
    "aomlogic.setpoint = powers[0]\n",
    "time.sleep(1)\n",
    "\n",
    "for power in powers:\n",
    "    aomlogic.setpoint = power\n",
    "    time.sleep(0.1)\n",
    "    if counterlogic.module_state() == 'locked':\n",
    "        # get_counter(num_samples) returns [channel-1, sample]\n",
    "        counts = qutau.get_counter(1)[1, 0]\n",
    "    else:\n",
    "        raise IOError('Ensure counter is running')\n",
    "    power = aomlogic.power_filtered\n",
    "    psat.append([power, counts])\n",
    "\n",
    "aomlogic.setpoint = 0\n",
    "\n",
    "psat_np = np.array(psat)\n",
    "plt.plot(psat_np[:, 0], psat_np[:, 1])\n",
    "plt.show()"
   ]
  },
  {
   "cell_type": "code",
   "execution_count": null,
   "metadata": {},
   "outputs": [],
   "source": [
    "np.savetxt(r'C:\\Data\\2020\\08\\20200810\\Saturation\\20200810_T018_50uW_stabilised_g2data', psat_np)"
   ]
  },
  {
   "cell_type": "code",
   "execution_count": null,
   "metadata": {},
   "outputs": [],
   "source": [
    "import os\n",
    "os.path.join(savelogic.get_daily_directory(), savelogic.get_filename(filelabel='T018_sat'))"
   ]
  },
  {
   "cell_type": "code",
   "execution_count": null,
   "metadata": {},
   "outputs": [],
   "source": []
  }
 ],
 "metadata": {
  "kernelspec": {
   "display_name": "Qudi",
   "language": "python",
   "name": "qudi"
  },
  "language_info": {
   "codemirror_mode": {
    "name": "ipython",
    "version": "3.7.7"
   },
   "file_extension": ".py",
   "mimetype": "text/x-python",
   "name": "python",
   "nbconvert_exporter": "python",
   "pygments_lexer": "ipython3",
   "version": "3.7.7"
  }
 },
 "nbformat": 4,
 "nbformat_minor": 4
}
