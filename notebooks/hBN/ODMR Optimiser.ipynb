{
 "cells": [
  {
   "cell_type": "markdown",
   "metadata": {},
   "source": [
    "# ODMR Optimiser\n",
    "\n",
    "Trigger a refocus after each ODMR line.\n",
    "\n",
    "This notebook:\n",
    "\n",
    "- Starts ODMR scan\n",
    "- Immediately requests to stop it\n",
    "- Waits for it to actually stop\n",
    "- Performs an optimization and waits for it to finish\n",
    "- Restarts ODMR scan\n",
    "\n",
    "Reconfigure the first cell to have the correct names for the ODMR logic and optimiser logic modules.\n",
    "\n",
    "Note we run `odmr_optimise` in a thread so we can stop it - Qudi currently doesn't respond to the normal Jupyter 'stop' button! :)"
   ]
  },
  {
   "cell_type": "code",
   "execution_count": null,
   "metadata": {},
   "outputs": [],
   "source": [
    "import time\n",
    "import threading\n",
    "\n",
    "_optimizer_logic = optimizerlogic\n",
    "_odmr_logic = odmrlogic\n",
    "_poimanager_logic = poimanagerlogic\n",
    "\n",
    "stop_flag = threading.Event()\n",
    "\n",
    "# Optimise every..\n",
    "optimisation_time = 120 #seconds (must be whole number)"
   ]
  },
  {
   "cell_type": "code",
   "execution_count": null,
   "metadata": {},
   "outputs": [],
   "source": [
    "def odmr_optimise():\n",
    "    print('Starting ODMR optimiser')\n",
    "    while not stop_flag.is_set():\n",
    "        # Start ODMR\n",
    "        _odmr_logic.start_odmr_scan()\n",
    "        \n",
    "        # Wait for the time we want between optimisations\n",
    "        for i in range(optimisation_time):\n",
    "            time.sleep(1)\n",
    "            if stop_flag.is_set():\n",
    "                return\n",
    "\n",
    "        # Request to stop ODMR\n",
    "        _odmr_logic.stop_odmr_scan()\n",
    "\n",
    "        # Wait until it actually stops\n",
    "        while _odmr_logic.module_state() == 'locked':\n",
    "            time.sleep(0.1)\n",
    "            if stop_flag.is_set():\n",
    "                return\n",
    "\n",
    "        # Request optimization from POI manager\n",
    "        _poimanager_logic.optimise_poi_position()\n",
    "        \n",
    "        # Wait for it to start\n",
    "        time.sleep(1)\n",
    "\n",
    "        # Wait for optimisation to finish\n",
    "        while _optimizer_logic.module_state() == 'locked':\n",
    "            time.sleep(0.1)\n",
    "            if stop_flag.is_set():\n",
    "                return"
   ]
  },
  {
   "cell_type": "code",
   "execution_count": null,
   "metadata": {},
   "outputs": [],
   "source": [
    "# Start the routine\n",
    "stop_flag.clear()\n",
    "threading.Thread(target=odmr_optimise).start()"
   ]
  },
  {
   "cell_type": "code",
   "execution_count": null,
   "metadata": {},
   "outputs": [],
   "source": [
    "# Request to stop the routine\n",
    "stop_flag.set()"
   ]
  },
  {
   "cell_type": "code",
   "execution_count": null,
   "metadata": {},
   "outputs": [],
   "source": []
  }
 ],
 "metadata": {
  "kernelspec": {
   "display_name": "Qudi",
   "language": "python",
   "name": "qudi"
  },
  "language_info": {
   "codemirror_mode": {
    "name": "ipython",
    "version": "3.7.6"
   },
   "file_extension": ".py",
   "mimetype": "text/x-python",
   "name": "python",
   "nbconvert_exporter": "python",
   "pygments_lexer": "ipython3",
   "version": "3.7.6"
  }
 },
 "nbformat": 4,
 "nbformat_minor": 4
}
