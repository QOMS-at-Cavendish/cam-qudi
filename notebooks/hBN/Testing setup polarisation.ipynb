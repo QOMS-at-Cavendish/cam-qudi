{
 "cells": [
  {
   "cell_type": "code",
   "execution_count": null,
   "metadata": {},
   "outputs": [],
   "source": [
    "import matplotlib.pyplot as plt\n",
    "import numpy as np\n",
    "import time"
   ]
  },
  {
   "cell_type": "code",
   "execution_count": null,
   "metadata": {},
   "outputs": [],
   "source": [
    "angles = np.arange(0, 360, 90)\n",
    "print(angles)\n",
    "polarisation = []\n",
    "\n",
    "hwp_motor.move_abs({'phi':angles[0]})\n",
    "position = hwp_motor.get_pos()\n",
    "print(position)"
   ]
  },
  {
   "cell_type": "code",
   "execution_count": null,
   "metadata": {},
   "outputs": [],
   "source": [
    "hwp_motor.get_velocity()"
   ]
  },
  {
   "cell_type": "code",
   "execution_count": null,
   "metadata": {},
   "outputs": [],
   "source": [
    "angles = np.arange(0, 360, 1)\n",
    "#print(angles)\n",
    "polarisation = []\n",
    "\n",
    "hwp_motor.move_abs({'phi':angles[0]})\n",
    "time.sleep(5)\n",
    "position = hwp_motor.get_pos()\n",
    "print(position)\n",
    "print('started')\n",
    "\n",
    "for angle in angles:\n",
    "    #print(angle)\n",
    "    hwp_motor.move_abs({'phi':angle})\n",
    "    \n",
    "    time.sleep(0.1)\n",
    "    position = hwp_motor.get_pos()['phi']\n",
    "    \n",
    "    while position > angle +0.01 or position < angle -0.01:\n",
    "        time.sleep(0.1)\n",
    "        position = hwp_motor.get_pos()['phi']\n",
    "        print('target: {:6.2f} actual: {:6.2f}'.format(angle, position), end='\\r')\n",
    "        \n",
    "print('\\nended')"
   ]
  },
  {
   "cell_type": "code",
   "execution_count": null,
   "metadata": {},
   "outputs": [],
   "source": [
    "hwp_motor.get_pos()\n",
    "\n"
   ]
  },
  {
   "cell_type": "code",
   "execution_count": null,
   "metadata": {},
   "outputs": [],
   "source": [
    "hwp_motor.move_abs({'phi':0})"
   ]
  },
  {
   "cell_type": "code",
   "execution_count": null,
   "metadata": {},
   "outputs": [],
   "source": [
    "hwp_motor.get_pos()"
   ]
  },
  {
   "cell_type": "code",
   "execution_count": null,
   "metadata": {},
   "outputs": [],
   "source": []
  }
 ],
 "metadata": {
  "kernelspec": {
   "display_name": "Qudi",
   "language": "python",
   "name": "qudi"
  },
  "language_info": {
   "codemirror_mode": {
    "name": "ipython",
    "version": "3.7.7"
   },
   "file_extension": ".py",
   "mimetype": "text/x-python",
   "name": "python",
   "nbconvert_exporter": "python",
   "pygments_lexer": "ipython3",
   "version": "3.7.7"
  }
 },
 "nbformat": 4,
 "nbformat_minor": 4
}
