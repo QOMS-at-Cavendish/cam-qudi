{
 "cells": [
  {
   "cell_type": "markdown",
   "metadata": {},
   "source": [
    "## Auto HBT start and stop\n",
    "\n",
    "Run the first cell to enable auto start and stop of the HBT while the POI manager runs the optimiser\n",
    "Run the second cell to disable this behaviour."
   ]
  },
  {
   "cell_type": "code",
   "execution_count": null,
   "metadata": {},
   "outputs": [],
   "source": [
    "import time\n",
    "import datetime\n",
    "\n",
    "def refocus_state_updated(state):\n",
    "    if time.monotonic() - poimanagerlogic.last_refocus_time > 1800:\n",
    "        # Save every half an hour\n",
    "        hbtlogic.save_hbt()\n",
    "        poimanagerlogic.last_refocus_time = time.monotonic()\n",
    "        \n",
    "    if state:\n",
    "        hbtlogic.stop_hbt()\n",
    "    else:\n",
    "        hbtlogic.start_hbt()\n",
    "        \n",
    "poimanagerlogic.last_refocus_time = time.monotonic()\n",
    "poimanagerlogic.sigRefocusStateUpdated.connect(refocus_state_updated)"
   ]
  },
  {
   "cell_type": "code",
   "execution_count": null,
   "metadata": {},
   "outputs": [],
   "source": [
    "poimanagerlogic.sigRefocusStateUpdated.disconnect()"
   ]
  },
  {
   "cell_type": "code",
   "execution_count": null,
   "metadata": {},
   "outputs": [],
   "source": []
  }
 ],
 "metadata": {
  "kernelspec": {
   "display_name": "Qudi",
   "language": "python",
   "name": "qudi"
  },
  "language_info": {
   "codemirror_mode": {
    "name": "ipython",
    "version": "3.7.7"
   },
   "file_extension": ".py",
   "mimetype": "text/x-python",
   "name": "python",
   "nbconvert_exporter": "python",
   "pygments_lexer": "ipython3",
   "version": "3.7.7"
  }
 },
 "nbformat": 4,
 "nbformat_minor": 2
}
